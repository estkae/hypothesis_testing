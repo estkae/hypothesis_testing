{
 "cells": [
  {
   "cell_type": "code",
   "execution_count": 6,
   "metadata": {},
   "outputs": [],
   "source": [
    "import pandas as pd\n",
    "import pandas_profiling\n",
    "import datetime\n",
    "import matplotlib.pyplot as plt\n",
    "import seaborn as sns\n",
    "import numpy as np\n",
    "import csv\n",
    "from functools import reduce\n",
    "from statsmodels.formula.api import ols\n",
    "import statsmodels.api as sm\n",
    "from statsmodels.stats.multicomp import pairwise_tukeyhsd\n",
    "import statsmodels.multivariate.manova as smanova"
   ]
  },
  {
   "cell_type": "markdown",
   "metadata": {},
   "source": [
    "**IMPORT FROM CSV**"
   ]
  },
  {
   "cell_type": "code",
   "execution_count": 9,
   "metadata": {},
   "outputs": [],
   "source": [
    "NY_data = pd.read_csv (r'NY_data.csv')\n",
    "FL_data = pd.read_csv (r'FL_data.csv')\n",
    "CA_data = pd.read_csv (r'CA_data.csv')\n",
    "MA_data = pd.read_csv (r'MA_data.csv')\n",
    "NY_data.drop('Unnamed: 0', inplace = True, axis=1)\n",
    "FL_data.drop('Unnamed: 0', inplace = True, axis=1)\n",
    "CA_data.drop('Unnamed: 0', inplace = True, axis=1)\n",
    "MA_data.drop('Unnamed: 0', inplace = True, axis=1)"
   ]
  },
  {
   "cell_type": "code",
   "execution_count": 10,
   "metadata": {},
   "outputs": [],
   "source": [
    "NY_data[[\"date\"]] = NY_data[[\"date\"]].apply(pd.to_datetime)\n",
    "FL_data[[\"date\"]] = FL_data[[\"date\"]].apply(pd.to_datetime)\n",
    "CA_data[[\"date\"]] = CA_data[[\"date\"]].apply(pd.to_datetime)\n",
    "MA_data[[\"date\"]] = MA_data[[\"date\"]].apply(pd.to_datetime)"
   ]
  },
  {
   "cell_type": "markdown",
   "metadata": {},
   "source": [
    "   "
   ]
  },
  {
   "cell_type": "markdown",
   "metadata": {},
   "source": [
    "   "
   ]
  },
  {
   "cell_type": "markdown",
   "metadata": {},
   "source": [
    "**DESCRIPTION DATA**"
   ]
  },
  {
   "cell_type": "code",
   "execution_count": 11,
   "metadata": {},
   "outputs": [
    {
     "name": "stdout",
     "output_type": "stream",
     "text": [
      "<class 'pandas.core.frame.DataFrame'>\n",
      "RangeIndex: 223 entries, 0 to 222\n",
      "Data columns (total 5 columns):\n",
      "date                 223 non-null datetime64[ns]\n",
      "coal                 223 non-null float64\n",
      "petroleum liquids    222 non-null float64\n",
      "petroleum coke       220 non-null float64\n",
      "natural gas          223 non-null float64\n",
      "dtypes: datetime64[ns](1), float64(4)\n",
      "memory usage: 8.8 KB\n"
     ]
    }
   ],
   "source": [
    "NY_data.info()"
   ]
  },
  {
   "cell_type": "code",
   "execution_count": 12,
   "metadata": {},
   "outputs": [
    {
     "name": "stdout",
     "output_type": "stream",
     "text": [
      "<class 'pandas.core.frame.DataFrame'>\n",
      "Int64Index: 219 entries, 0 to 222\n",
      "Data columns (total 5 columns):\n",
      "date                 219 non-null datetime64[ns]\n",
      "coal                 219 non-null float64\n",
      "petroleum liquids    219 non-null float64\n",
      "petroleum coke       219 non-null float64\n",
      "natural gas          219 non-null float64\n",
      "dtypes: datetime64[ns](1), float64(4)\n",
      "memory usage: 10.3 KB\n"
     ]
    }
   ],
   "source": [
    "NY_data = NY_data.dropna(axis = 0)\n",
    "NY_data.info()"
   ]
  },
  {
   "cell_type": "code",
   "execution_count": 13,
   "metadata": {},
   "outputs": [],
   "source": [
    "NYcoal_mean = NY_data['coal'].mean()\n",
    "NYpetliq_mean = NY_data['petroleum liquids'].mean()\n",
    "NYpetcoke_mean = NY_data['petroleum coke'].mean()\n",
    "NYnatgas_mean = NY_data['natural gas'].mean()\n",
    "NYcoal_std = NY_data['coal'].std()\n",
    "NYpetliq_std = NY_data['petroleum liquids'].std()\n",
    "NYpetcoke_std = NY_data['petroleum coke'].std()\n",
    "NYnatgas_std = NY_data['natural gas'].std()"
   ]
  },
  {
   "cell_type": "markdown",
   "metadata": {},
   "source": [
    "***ADD MONTH COLUMN, ADD SEASON COLUMN, and change COL Names***"
   ]
  },
  {
   "cell_type": "code",
   "execution_count": 15,
   "metadata": {},
   "outputs": [
    {
     "name": "stdout",
     "output_type": "stream",
     "text": [
      "<class 'pandas.core.frame.DataFrame'>\n",
      "Int64Index: 219 entries, 0 to 222\n",
      "Data columns (total 7 columns):\n",
      "date                 219 non-null datetime64[ns]\n",
      "coal                 219 non-null float64\n",
      "petroleum_liquids    219 non-null float64\n",
      "petroleum_coke       219 non-null float64\n",
      "natural_gas          219 non-null float64\n",
      "month                219 non-null int64\n",
      "seasons              219 non-null object\n",
      "dtypes: datetime64[ns](1), float64(4), int64(1), object(1)\n",
      "memory usage: 13.7+ KB\n"
     ]
    }
   ],
   "source": [
    "NY_data[\"month\"] = NY_data.date.apply(lambda x: pd.to_datetime(x).strftime('%m-%d-%Y')[0:2])\n",
    "NY_data[\"month\"]=NY_data[\"month\"].astype(int)\n",
    "NY_data['seasons'] = NY_data.month.apply(lambda x: 'spring' if x >=3 and x<=5  else ('summer' if x >= 6 and x<=8 else ('fall' if x >= 9 and x<=11 else 'winter')))\n",
    "NY_data.rename(columns={'date':'date', 'coal': 'coal', 'petroleum liquids': 'petroleum_liquids', 'petroleum coke': 'petroleum_coke','natural gas': 'natural_gas', 'month': 'month', 'seasons':'seasons'},inplace = True)\n",
    "NY_data.info()"
   ]
  },
  {
   "cell_type": "code",
   "execution_count": 16,
   "metadata": {
    "collapsed": true
   },
   "outputs": [
    {
     "data": {
      "text/html": [
       "<div>\n",
       "<style scoped>\n",
       "    .dataframe tbody tr th:only-of-type {\n",
       "        vertical-align: middle;\n",
       "    }\n",
       "\n",
       "    .dataframe tbody tr th {\n",
       "        vertical-align: top;\n",
       "    }\n",
       "\n",
       "    .dataframe thead th {\n",
       "        text-align: right;\n",
       "    }\n",
       "</style>\n",
       "<table border=\"1\" class=\"dataframe\">\n",
       "  <thead>\n",
       "    <tr style=\"text-align: right;\">\n",
       "      <th></th>\n",
       "      <th>date</th>\n",
       "      <th>coal</th>\n",
       "      <th>petroleum_liquids</th>\n",
       "      <th>petroleum_coke</th>\n",
       "      <th>natural_gas</th>\n",
       "      <th>month</th>\n",
       "      <th>seasons</th>\n",
       "    </tr>\n",
       "  </thead>\n",
       "  <tbody>\n",
       "    <tr>\n",
       "      <th>0</th>\n",
       "      <td>2019-07-01</td>\n",
       "      <td>20.670</td>\n",
       "      <td>50.20193</td>\n",
       "      <td>0.000</td>\n",
       "      <td>55865.759</td>\n",
       "      <td>7</td>\n",
       "      <td>summer</td>\n",
       "    </tr>\n",
       "    <tr>\n",
       "      <th>1</th>\n",
       "      <td>2019-06-01</td>\n",
       "      <td>0.413</td>\n",
       "      <td>12.14224</td>\n",
       "      <td>0.000</td>\n",
       "      <td>32673.142</td>\n",
       "      <td>6</td>\n",
       "      <td>summer</td>\n",
       "    </tr>\n",
       "    <tr>\n",
       "      <th>2</th>\n",
       "      <td>2019-05-01</td>\n",
       "      <td>0.000</td>\n",
       "      <td>24.06632</td>\n",
       "      <td>0.000</td>\n",
       "      <td>23871.364</td>\n",
       "      <td>5</td>\n",
       "      <td>spring</td>\n",
       "    </tr>\n",
       "    <tr>\n",
       "      <th>3</th>\n",
       "      <td>2019-04-01</td>\n",
       "      <td>5.204</td>\n",
       "      <td>23.42744</td>\n",
       "      <td>0.000</td>\n",
       "      <td>24542.277</td>\n",
       "      <td>4</td>\n",
       "      <td>spring</td>\n",
       "    </tr>\n",
       "    <tr>\n",
       "      <th>4</th>\n",
       "      <td>2019-03-01</td>\n",
       "      <td>27.486</td>\n",
       "      <td>26.74117</td>\n",
       "      <td>0.000</td>\n",
       "      <td>26947.314</td>\n",
       "      <td>3</td>\n",
       "      <td>spring</td>\n",
       "    </tr>\n",
       "    <tr>\n",
       "      <th>5</th>\n",
       "      <td>2019-02-01</td>\n",
       "      <td>24.012</td>\n",
       "      <td>98.74642</td>\n",
       "      <td>0.000</td>\n",
       "      <td>28521.780</td>\n",
       "      <td>2</td>\n",
       "      <td>winter</td>\n",
       "    </tr>\n",
       "    <tr>\n",
       "      <th>6</th>\n",
       "      <td>2019-01-01</td>\n",
       "      <td>89.869</td>\n",
       "      <td>412.86716</td>\n",
       "      <td>0.000</td>\n",
       "      <td>30743.751</td>\n",
       "      <td>1</td>\n",
       "      <td>winter</td>\n",
       "    </tr>\n",
       "    <tr>\n",
       "      <th>8</th>\n",
       "      <td>2018-11-01</td>\n",
       "      <td>1.413</td>\n",
       "      <td>36.07378</td>\n",
       "      <td>0.000</td>\n",
       "      <td>30422.783</td>\n",
       "      <td>11</td>\n",
       "      <td>fall</td>\n",
       "    </tr>\n",
       "    <tr>\n",
       "      <th>9</th>\n",
       "      <td>2018-10-01</td>\n",
       "      <td>1.274</td>\n",
       "      <td>15.40310</td>\n",
       "      <td>0.000</td>\n",
       "      <td>33418.465</td>\n",
       "      <td>10</td>\n",
       "      <td>fall</td>\n",
       "    </tr>\n",
       "    <tr>\n",
       "      <th>10</th>\n",
       "      <td>2018-09-01</td>\n",
       "      <td>21.333</td>\n",
       "      <td>48.03584</td>\n",
       "      <td>0.000</td>\n",
       "      <td>40474.029</td>\n",
       "      <td>9</td>\n",
       "      <td>fall</td>\n",
       "    </tr>\n",
       "    <tr>\n",
       "      <th>11</th>\n",
       "      <td>2018-08-01</td>\n",
       "      <td>16.441</td>\n",
       "      <td>93.89937</td>\n",
       "      <td>0.000</td>\n",
       "      <td>55506.121</td>\n",
       "      <td>8</td>\n",
       "      <td>summer</td>\n",
       "    </tr>\n",
       "    <tr>\n",
       "      <th>12</th>\n",
       "      <td>2018-07-01</td>\n",
       "      <td>49.240</td>\n",
       "      <td>61.24060</td>\n",
       "      <td>0.000</td>\n",
       "      <td>51804.668</td>\n",
       "      <td>7</td>\n",
       "      <td>summer</td>\n",
       "    </tr>\n",
       "    <tr>\n",
       "      <th>13</th>\n",
       "      <td>2018-06-01</td>\n",
       "      <td>6.253</td>\n",
       "      <td>34.05786</td>\n",
       "      <td>0.000</td>\n",
       "      <td>35828.022</td>\n",
       "      <td>6</td>\n",
       "      <td>summer</td>\n",
       "    </tr>\n",
       "    <tr>\n",
       "      <th>14</th>\n",
       "      <td>2018-05-01</td>\n",
       "      <td>0.753</td>\n",
       "      <td>70.67645</td>\n",
       "      <td>0.000</td>\n",
       "      <td>31178.147</td>\n",
       "      <td>5</td>\n",
       "      <td>spring</td>\n",
       "    </tr>\n",
       "    <tr>\n",
       "      <th>15</th>\n",
       "      <td>2018-04-01</td>\n",
       "      <td>0.000</td>\n",
       "      <td>58.91458</td>\n",
       "      <td>0.000</td>\n",
       "      <td>26274.822</td>\n",
       "      <td>4</td>\n",
       "      <td>spring</td>\n",
       "    </tr>\n",
       "    <tr>\n",
       "      <th>16</th>\n",
       "      <td>2018-03-01</td>\n",
       "      <td>47.815</td>\n",
       "      <td>25.20802</td>\n",
       "      <td>0.000</td>\n",
       "      <td>27334.244</td>\n",
       "      <td>3</td>\n",
       "      <td>spring</td>\n",
       "    </tr>\n",
       "    <tr>\n",
       "      <th>17</th>\n",
       "      <td>2018-02-01</td>\n",
       "      <td>5.329</td>\n",
       "      <td>48.90605</td>\n",
       "      <td>0.000</td>\n",
       "      <td>30594.497</td>\n",
       "      <td>2</td>\n",
       "      <td>winter</td>\n",
       "    </tr>\n",
       "    <tr>\n",
       "      <th>18</th>\n",
       "      <td>2018-01-01</td>\n",
       "      <td>100.475</td>\n",
       "      <td>1988.37826</td>\n",
       "      <td>0.000</td>\n",
       "      <td>27946.002</td>\n",
       "      <td>1</td>\n",
       "      <td>winter</td>\n",
       "    </tr>\n",
       "    <tr>\n",
       "      <th>19</th>\n",
       "      <td>2017-12-01</td>\n",
       "      <td>44.395</td>\n",
       "      <td>730.39022</td>\n",
       "      <td>0.000</td>\n",
       "      <td>30028.387</td>\n",
       "      <td>12</td>\n",
       "      <td>winter</td>\n",
       "    </tr>\n",
       "    <tr>\n",
       "      <th>20</th>\n",
       "      <td>2017-11-01</td>\n",
       "      <td>13.757</td>\n",
       "      <td>10.32773</td>\n",
       "      <td>0.000</td>\n",
       "      <td>25285.907</td>\n",
       "      <td>11</td>\n",
       "      <td>fall</td>\n",
       "    </tr>\n",
       "    <tr>\n",
       "      <th>21</th>\n",
       "      <td>2017-10-01</td>\n",
       "      <td>0.000</td>\n",
       "      <td>9.16256</td>\n",
       "      <td>0.000</td>\n",
       "      <td>28818.663</td>\n",
       "      <td>10</td>\n",
       "      <td>fall</td>\n",
       "    </tr>\n",
       "    <tr>\n",
       "      <th>22</th>\n",
       "      <td>2017-09-01</td>\n",
       "      <td>18.146</td>\n",
       "      <td>13.77408</td>\n",
       "      <td>0.000</td>\n",
       "      <td>36218.232</td>\n",
       "      <td>9</td>\n",
       "      <td>fall</td>\n",
       "    </tr>\n",
       "    <tr>\n",
       "      <th>23</th>\n",
       "      <td>2017-08-01</td>\n",
       "      <td>6.392</td>\n",
       "      <td>24.27144</td>\n",
       "      <td>0.000</td>\n",
       "      <td>43153.523</td>\n",
       "      <td>8</td>\n",
       "      <td>summer</td>\n",
       "    </tr>\n",
       "    <tr>\n",
       "      <th>24</th>\n",
       "      <td>2017-07-01</td>\n",
       "      <td>18.159</td>\n",
       "      <td>11.44812</td>\n",
       "      <td>0.000</td>\n",
       "      <td>46793.961</td>\n",
       "      <td>7</td>\n",
       "      <td>summer</td>\n",
       "    </tr>\n",
       "    <tr>\n",
       "      <th>25</th>\n",
       "      <td>2017-06-01</td>\n",
       "      <td>24.059</td>\n",
       "      <td>40.99321</td>\n",
       "      <td>0.000</td>\n",
       "      <td>37180.695</td>\n",
       "      <td>6</td>\n",
       "      <td>summer</td>\n",
       "    </tr>\n",
       "    <tr>\n",
       "      <th>26</th>\n",
       "      <td>2017-05-01</td>\n",
       "      <td>26.305</td>\n",
       "      <td>9.63698</td>\n",
       "      <td>0.000</td>\n",
       "      <td>26888.115</td>\n",
       "      <td>5</td>\n",
       "      <td>spring</td>\n",
       "    </tr>\n",
       "    <tr>\n",
       "      <th>27</th>\n",
       "      <td>2017-04-01</td>\n",
       "      <td>10.251</td>\n",
       "      <td>5.05754</td>\n",
       "      <td>0.000</td>\n",
       "      <td>24266.306</td>\n",
       "      <td>4</td>\n",
       "      <td>spring</td>\n",
       "    </tr>\n",
       "    <tr>\n",
       "      <th>28</th>\n",
       "      <td>2017-03-01</td>\n",
       "      <td>26.397</td>\n",
       "      <td>32.68197</td>\n",
       "      <td>0.000</td>\n",
       "      <td>30828.347</td>\n",
       "      <td>3</td>\n",
       "      <td>spring</td>\n",
       "    </tr>\n",
       "    <tr>\n",
       "      <th>29</th>\n",
       "      <td>2017-02-01</td>\n",
       "      <td>17.593</td>\n",
       "      <td>56.03559</td>\n",
       "      <td>0.000</td>\n",
       "      <td>25845.871</td>\n",
       "      <td>2</td>\n",
       "      <td>winter</td>\n",
       "    </tr>\n",
       "    <tr>\n",
       "      <th>30</th>\n",
       "      <td>2017-01-01</td>\n",
       "      <td>36.728</td>\n",
       "      <td>58.11546</td>\n",
       "      <td>0.000</td>\n",
       "      <td>30181.607</td>\n",
       "      <td>1</td>\n",
       "      <td>winter</td>\n",
       "    </tr>\n",
       "    <tr>\n",
       "      <th>...</th>\n",
       "      <td>...</td>\n",
       "      <td>...</td>\n",
       "      <td>...</td>\n",
       "      <td>...</td>\n",
       "      <td>...</td>\n",
       "      <td>...</td>\n",
       "      <td>...</td>\n",
       "    </tr>\n",
       "    <tr>\n",
       "      <th>193</th>\n",
       "      <td>2003-06-01</td>\n",
       "      <td>759.916</td>\n",
       "      <td>2625.52400</td>\n",
       "      <td>3.550</td>\n",
       "      <td>21723.763</td>\n",
       "      <td>6</td>\n",
       "      <td>summer</td>\n",
       "    </tr>\n",
       "    <tr>\n",
       "      <th>194</th>\n",
       "      <td>2003-05-01</td>\n",
       "      <td>625.936</td>\n",
       "      <td>1543.62600</td>\n",
       "      <td>1.848</td>\n",
       "      <td>17100.288</td>\n",
       "      <td>5</td>\n",
       "      <td>spring</td>\n",
       "    </tr>\n",
       "    <tr>\n",
       "      <th>195</th>\n",
       "      <td>2003-04-01</td>\n",
       "      <td>697.097</td>\n",
       "      <td>3056.52100</td>\n",
       "      <td>2.772</td>\n",
       "      <td>18314.922</td>\n",
       "      <td>4</td>\n",
       "      <td>spring</td>\n",
       "    </tr>\n",
       "    <tr>\n",
       "      <th>196</th>\n",
       "      <td>2003-03-01</td>\n",
       "      <td>832.374</td>\n",
       "      <td>2761.87400</td>\n",
       "      <td>2.831</td>\n",
       "      <td>19294.257</td>\n",
       "      <td>3</td>\n",
       "      <td>spring</td>\n",
       "    </tr>\n",
       "    <tr>\n",
       "      <th>197</th>\n",
       "      <td>2003-02-01</td>\n",
       "      <td>839.237</td>\n",
       "      <td>3093.60000</td>\n",
       "      <td>0.645</td>\n",
       "      <td>16711.094</td>\n",
       "      <td>2</td>\n",
       "      <td>winter</td>\n",
       "    </tr>\n",
       "    <tr>\n",
       "      <th>198</th>\n",
       "      <td>2003-01-01</td>\n",
       "      <td>892.246</td>\n",
       "      <td>2979.65700</td>\n",
       "      <td>2.410</td>\n",
       "      <td>18687.586</td>\n",
       "      <td>1</td>\n",
       "      <td>winter</td>\n",
       "    </tr>\n",
       "    <tr>\n",
       "      <th>199</th>\n",
       "      <td>2002-12-01</td>\n",
       "      <td>881.351</td>\n",
       "      <td>2457.91900</td>\n",
       "      <td>3.392</td>\n",
       "      <td>21361.407</td>\n",
       "      <td>12</td>\n",
       "      <td>winter</td>\n",
       "    </tr>\n",
       "    <tr>\n",
       "      <th>200</th>\n",
       "      <td>2002-11-01</td>\n",
       "      <td>816.964</td>\n",
       "      <td>1844.74700</td>\n",
       "      <td>4.592</td>\n",
       "      <td>23131.931</td>\n",
       "      <td>11</td>\n",
       "      <td>fall</td>\n",
       "    </tr>\n",
       "    <tr>\n",
       "      <th>201</th>\n",
       "      <td>2002-10-01</td>\n",
       "      <td>873.719</td>\n",
       "      <td>1152.61300</td>\n",
       "      <td>4.440</td>\n",
       "      <td>30298.235</td>\n",
       "      <td>10</td>\n",
       "      <td>fall</td>\n",
       "    </tr>\n",
       "    <tr>\n",
       "      <th>202</th>\n",
       "      <td>2002-09-01</td>\n",
       "      <td>840.389</td>\n",
       "      <td>1071.03500</td>\n",
       "      <td>4.472</td>\n",
       "      <td>37922.827</td>\n",
       "      <td>9</td>\n",
       "      <td>fall</td>\n",
       "    </tr>\n",
       "    <tr>\n",
       "      <th>203</th>\n",
       "      <td>2002-08-01</td>\n",
       "      <td>870.330</td>\n",
       "      <td>2325.85100</td>\n",
       "      <td>4.718</td>\n",
       "      <td>48899.821</td>\n",
       "      <td>8</td>\n",
       "      <td>summer</td>\n",
       "    </tr>\n",
       "    <tr>\n",
       "      <th>204</th>\n",
       "      <td>2002-07-01</td>\n",
       "      <td>934.490</td>\n",
       "      <td>2485.39100</td>\n",
       "      <td>4.717</td>\n",
       "      <td>47533.032</td>\n",
       "      <td>7</td>\n",
       "      <td>summer</td>\n",
       "    </tr>\n",
       "    <tr>\n",
       "      <th>205</th>\n",
       "      <td>2002-06-01</td>\n",
       "      <td>734.203</td>\n",
       "      <td>1721.60800</td>\n",
       "      <td>3.252</td>\n",
       "      <td>33761.912</td>\n",
       "      <td>6</td>\n",
       "      <td>summer</td>\n",
       "    </tr>\n",
       "    <tr>\n",
       "      <th>206</th>\n",
       "      <td>2002-05-01</td>\n",
       "      <td>621.469</td>\n",
       "      <td>1532.18900</td>\n",
       "      <td>4.168</td>\n",
       "      <td>23869.353</td>\n",
       "      <td>5</td>\n",
       "      <td>spring</td>\n",
       "    </tr>\n",
       "    <tr>\n",
       "      <th>207</th>\n",
       "      <td>2002-04-01</td>\n",
       "      <td>616.709</td>\n",
       "      <td>1276.95800</td>\n",
       "      <td>1.805</td>\n",
       "      <td>24407.534</td>\n",
       "      <td>4</td>\n",
       "      <td>spring</td>\n",
       "    </tr>\n",
       "    <tr>\n",
       "      <th>208</th>\n",
       "      <td>2002-03-01</td>\n",
       "      <td>650.010</td>\n",
       "      <td>1261.10800</td>\n",
       "      <td>2.578</td>\n",
       "      <td>24629.110</td>\n",
       "      <td>3</td>\n",
       "      <td>spring</td>\n",
       "    </tr>\n",
       "    <tr>\n",
       "      <th>209</th>\n",
       "      <td>2002-02-01</td>\n",
       "      <td>588.194</td>\n",
       "      <td>901.18000</td>\n",
       "      <td>3.500</td>\n",
       "      <td>23830.773</td>\n",
       "      <td>2</td>\n",
       "      <td>winter</td>\n",
       "    </tr>\n",
       "    <tr>\n",
       "      <th>210</th>\n",
       "      <td>2002-01-01</td>\n",
       "      <td>726.566</td>\n",
       "      <td>1453.80400</td>\n",
       "      <td>4.151</td>\n",
       "      <td>26059.282</td>\n",
       "      <td>1</td>\n",
       "      <td>winter</td>\n",
       "    </tr>\n",
       "    <tr>\n",
       "      <th>211</th>\n",
       "      <td>2001-12-01</td>\n",
       "      <td>738.415</td>\n",
       "      <td>1266.60900</td>\n",
       "      <td>4.000</td>\n",
       "      <td>29114.784</td>\n",
       "      <td>12</td>\n",
       "      <td>winter</td>\n",
       "    </tr>\n",
       "    <tr>\n",
       "      <th>212</th>\n",
       "      <td>2001-11-01</td>\n",
       "      <td>566.985</td>\n",
       "      <td>1123.31100</td>\n",
       "      <td>0.000</td>\n",
       "      <td>26678.557</td>\n",
       "      <td>11</td>\n",
       "      <td>fall</td>\n",
       "    </tr>\n",
       "    <tr>\n",
       "      <th>213</th>\n",
       "      <td>2001-10-01</td>\n",
       "      <td>666.700</td>\n",
       "      <td>937.97400</td>\n",
       "      <td>0.000</td>\n",
       "      <td>35308.527</td>\n",
       "      <td>10</td>\n",
       "      <td>fall</td>\n",
       "    </tr>\n",
       "    <tr>\n",
       "      <th>214</th>\n",
       "      <td>2001-09-01</td>\n",
       "      <td>619.018</td>\n",
       "      <td>1036.18300</td>\n",
       "      <td>2.190</td>\n",
       "      <td>39716.563</td>\n",
       "      <td>9</td>\n",
       "      <td>fall</td>\n",
       "    </tr>\n",
       "    <tr>\n",
       "      <th>215</th>\n",
       "      <td>2001-08-01</td>\n",
       "      <td>922.989</td>\n",
       "      <td>2673.09000</td>\n",
       "      <td>0.570</td>\n",
       "      <td>52219.677</td>\n",
       "      <td>8</td>\n",
       "      <td>summer</td>\n",
       "    </tr>\n",
       "    <tr>\n",
       "      <th>216</th>\n",
       "      <td>2001-07-01</td>\n",
       "      <td>880.477</td>\n",
       "      <td>1971.08700</td>\n",
       "      <td>0.460</td>\n",
       "      <td>41800.174</td>\n",
       "      <td>7</td>\n",
       "      <td>summer</td>\n",
       "    </tr>\n",
       "    <tr>\n",
       "      <th>217</th>\n",
       "      <td>2001-06-01</td>\n",
       "      <td>774.347</td>\n",
       "      <td>2590.36700</td>\n",
       "      <td>0.090</td>\n",
       "      <td>36705.869</td>\n",
       "      <td>6</td>\n",
       "      <td>summer</td>\n",
       "    </tr>\n",
       "    <tr>\n",
       "      <th>218</th>\n",
       "      <td>2001-05-01</td>\n",
       "      <td>671.097</td>\n",
       "      <td>2546.48800</td>\n",
       "      <td>0.000</td>\n",
       "      <td>27910.455</td>\n",
       "      <td>5</td>\n",
       "      <td>spring</td>\n",
       "    </tr>\n",
       "    <tr>\n",
       "      <th>219</th>\n",
       "      <td>2001-04-01</td>\n",
       "      <td>713.350</td>\n",
       "      <td>2788.78200</td>\n",
       "      <td>0.000</td>\n",
       "      <td>17686.257</td>\n",
       "      <td>4</td>\n",
       "      <td>spring</td>\n",
       "    </tr>\n",
       "    <tr>\n",
       "      <th>220</th>\n",
       "      <td>2001-03-01</td>\n",
       "      <td>886.113</td>\n",
       "      <td>3462.84500</td>\n",
       "      <td>0.000</td>\n",
       "      <td>17929.800</td>\n",
       "      <td>3</td>\n",
       "      <td>spring</td>\n",
       "    </tr>\n",
       "    <tr>\n",
       "      <th>221</th>\n",
       "      <td>2001-02-01</td>\n",
       "      <td>853.364</td>\n",
       "      <td>3279.28200</td>\n",
       "      <td>0.350</td>\n",
       "      <td>16176.186</td>\n",
       "      <td>2</td>\n",
       "      <td>winter</td>\n",
       "    </tr>\n",
       "    <tr>\n",
       "      <th>222</th>\n",
       "      <td>2001-01-01</td>\n",
       "      <td>964.908</td>\n",
       "      <td>4788.46100</td>\n",
       "      <td>0.000</td>\n",
       "      <td>16162.380</td>\n",
       "      <td>1</td>\n",
       "      <td>winter</td>\n",
       "    </tr>\n",
       "  </tbody>\n",
       "</table>\n",
       "<p>219 rows × 7 columns</p>\n",
       "</div>"
      ],
      "text/plain": [
       "          date     coal  petroleum_liquids  petroleum_coke  natural_gas  \\\n",
       "0   2019-07-01   20.670           50.20193           0.000    55865.759   \n",
       "1   2019-06-01    0.413           12.14224           0.000    32673.142   \n",
       "2   2019-05-01    0.000           24.06632           0.000    23871.364   \n",
       "3   2019-04-01    5.204           23.42744           0.000    24542.277   \n",
       "4   2019-03-01   27.486           26.74117           0.000    26947.314   \n",
       "5   2019-02-01   24.012           98.74642           0.000    28521.780   \n",
       "6   2019-01-01   89.869          412.86716           0.000    30743.751   \n",
       "8   2018-11-01    1.413           36.07378           0.000    30422.783   \n",
       "9   2018-10-01    1.274           15.40310           0.000    33418.465   \n",
       "10  2018-09-01   21.333           48.03584           0.000    40474.029   \n",
       "11  2018-08-01   16.441           93.89937           0.000    55506.121   \n",
       "12  2018-07-01   49.240           61.24060           0.000    51804.668   \n",
       "13  2018-06-01    6.253           34.05786           0.000    35828.022   \n",
       "14  2018-05-01    0.753           70.67645           0.000    31178.147   \n",
       "15  2018-04-01    0.000           58.91458           0.000    26274.822   \n",
       "16  2018-03-01   47.815           25.20802           0.000    27334.244   \n",
       "17  2018-02-01    5.329           48.90605           0.000    30594.497   \n",
       "18  2018-01-01  100.475         1988.37826           0.000    27946.002   \n",
       "19  2017-12-01   44.395          730.39022           0.000    30028.387   \n",
       "20  2017-11-01   13.757           10.32773           0.000    25285.907   \n",
       "21  2017-10-01    0.000            9.16256           0.000    28818.663   \n",
       "22  2017-09-01   18.146           13.77408           0.000    36218.232   \n",
       "23  2017-08-01    6.392           24.27144           0.000    43153.523   \n",
       "24  2017-07-01   18.159           11.44812           0.000    46793.961   \n",
       "25  2017-06-01   24.059           40.99321           0.000    37180.695   \n",
       "26  2017-05-01   26.305            9.63698           0.000    26888.115   \n",
       "27  2017-04-01   10.251            5.05754           0.000    24266.306   \n",
       "28  2017-03-01   26.397           32.68197           0.000    30828.347   \n",
       "29  2017-02-01   17.593           56.03559           0.000    25845.871   \n",
       "30  2017-01-01   36.728           58.11546           0.000    30181.607   \n",
       "..         ...      ...                ...             ...          ...   \n",
       "193 2003-06-01  759.916         2625.52400           3.550    21723.763   \n",
       "194 2003-05-01  625.936         1543.62600           1.848    17100.288   \n",
       "195 2003-04-01  697.097         3056.52100           2.772    18314.922   \n",
       "196 2003-03-01  832.374         2761.87400           2.831    19294.257   \n",
       "197 2003-02-01  839.237         3093.60000           0.645    16711.094   \n",
       "198 2003-01-01  892.246         2979.65700           2.410    18687.586   \n",
       "199 2002-12-01  881.351         2457.91900           3.392    21361.407   \n",
       "200 2002-11-01  816.964         1844.74700           4.592    23131.931   \n",
       "201 2002-10-01  873.719         1152.61300           4.440    30298.235   \n",
       "202 2002-09-01  840.389         1071.03500           4.472    37922.827   \n",
       "203 2002-08-01  870.330         2325.85100           4.718    48899.821   \n",
       "204 2002-07-01  934.490         2485.39100           4.717    47533.032   \n",
       "205 2002-06-01  734.203         1721.60800           3.252    33761.912   \n",
       "206 2002-05-01  621.469         1532.18900           4.168    23869.353   \n",
       "207 2002-04-01  616.709         1276.95800           1.805    24407.534   \n",
       "208 2002-03-01  650.010         1261.10800           2.578    24629.110   \n",
       "209 2002-02-01  588.194          901.18000           3.500    23830.773   \n",
       "210 2002-01-01  726.566         1453.80400           4.151    26059.282   \n",
       "211 2001-12-01  738.415         1266.60900           4.000    29114.784   \n",
       "212 2001-11-01  566.985         1123.31100           0.000    26678.557   \n",
       "213 2001-10-01  666.700          937.97400           0.000    35308.527   \n",
       "214 2001-09-01  619.018         1036.18300           2.190    39716.563   \n",
       "215 2001-08-01  922.989         2673.09000           0.570    52219.677   \n",
       "216 2001-07-01  880.477         1971.08700           0.460    41800.174   \n",
       "217 2001-06-01  774.347         2590.36700           0.090    36705.869   \n",
       "218 2001-05-01  671.097         2546.48800           0.000    27910.455   \n",
       "219 2001-04-01  713.350         2788.78200           0.000    17686.257   \n",
       "220 2001-03-01  886.113         3462.84500           0.000    17929.800   \n",
       "221 2001-02-01  853.364         3279.28200           0.350    16176.186   \n",
       "222 2001-01-01  964.908         4788.46100           0.000    16162.380   \n",
       "\n",
       "     month seasons  \n",
       "0        7  summer  \n",
       "1        6  summer  \n",
       "2        5  spring  \n",
       "3        4  spring  \n",
       "4        3  spring  \n",
       "5        2  winter  \n",
       "6        1  winter  \n",
       "8       11    fall  \n",
       "9       10    fall  \n",
       "10       9    fall  \n",
       "11       8  summer  \n",
       "12       7  summer  \n",
       "13       6  summer  \n",
       "14       5  spring  \n",
       "15       4  spring  \n",
       "16       3  spring  \n",
       "17       2  winter  \n",
       "18       1  winter  \n",
       "19      12  winter  \n",
       "20      11    fall  \n",
       "21      10    fall  \n",
       "22       9    fall  \n",
       "23       8  summer  \n",
       "24       7  summer  \n",
       "25       6  summer  \n",
       "26       5  spring  \n",
       "27       4  spring  \n",
       "28       3  spring  \n",
       "29       2  winter  \n",
       "30       1  winter  \n",
       "..     ...     ...  \n",
       "193      6  summer  \n",
       "194      5  spring  \n",
       "195      4  spring  \n",
       "196      3  spring  \n",
       "197      2  winter  \n",
       "198      1  winter  \n",
       "199     12  winter  \n",
       "200     11    fall  \n",
       "201     10    fall  \n",
       "202      9    fall  \n",
       "203      8  summer  \n",
       "204      7  summer  \n",
       "205      6  summer  \n",
       "206      5  spring  \n",
       "207      4  spring  \n",
       "208      3  spring  \n",
       "209      2  winter  \n",
       "210      1  winter  \n",
       "211     12  winter  \n",
       "212     11    fall  \n",
       "213     10    fall  \n",
       "214      9    fall  \n",
       "215      8  summer  \n",
       "216      7  summer  \n",
       "217      6  summer  \n",
       "218      5  spring  \n",
       "219      4  spring  \n",
       "220      3  spring  \n",
       "221      2  winter  \n",
       "222      1  winter  \n",
       "\n",
       "[219 rows x 7 columns]"
      ]
     },
     "execution_count": 16,
     "metadata": {},
     "output_type": "execute_result"
    }
   ],
   "source": [
    "NY_data"
   ]
  },
  {
   "cell_type": "markdown",
   "metadata": {},
   "source": [
    "**BOX PLOTTING --- FOLLOWED BY ANOVA TESTING**\n",
    "\n",
    "(ASSUMING NORMAL DISTRIBUTION) "
   ]
  },
  {
   "cell_type": "code",
   "execution_count": 19,
   "metadata": {
    "scrolled": true
   },
   "outputs": [
    {
     "data": {
      "text/plain": [
       "<matplotlib.axes._subplots.AxesSubplot at 0x1c2474c2e8>"
      ]
     },
     "execution_count": 19,
     "metadata": {},
     "output_type": "execute_result"
    },
    {
     "data": {
      "image/png": "[encoded data removed]",
      "text/plain": [
       "<Figure size 432x432 with 1 Axes>"
      ]
     },
     "metadata": {
      "needs_background": "light"
     },
     "output_type": "display_data"
    },
    {
     "data": {
      "image/png": "[encoded data removed]",
      "text/plain": [
       "<Figure size 432x432 with 1 Axes>"
      ]
     },
     "metadata": {
      "needs_background": "light"
     },
     "output_type": "display_data"
    },
    {
     "data": {
      "image/png": "[encoded data removed]",
      "text/plain": [
       "<Figure size 432x432 with 1 Axes>"
      ]
     },
     "metadata": {
      "needs_background": "light"
     },
     "output_type": "display_data"
    },
    {
     "data": {
      "image/png": "[encoded data removed]",
      "text/plain": [
       "<Figure size 432x432 with 1 Axes>"
      ]
     },
     "metadata": {
      "needs_background": "light"
     },
     "output_type": "display_data"
    }
   ],
   "source": [
    "NY_data.boxplot('coal', by='month', figsize=(6,6))\n",
    "NY_data.boxplot('petroleum_liquids', by='month', figsize=(6,6))\n",
    "NY_data.boxplot('petroleum_coke', by='month', figsize=(6,6))\n",
    "NY_data.boxplot('natural_gas', by='month', figsize=(6,6))"
   ]
  },
  {
   "cell_type": "code",
   "execution_count": 20,
   "metadata": {
    "scrolled": true
   },
   "outputs": [
    {
     "data": {
      "image/png": "[encoded data removed]",
      "text/plain": [
       "<Figure size 432x432 with 1 Axes>"
      ]
     },
     "metadata": {
      "needs_background": "light"
     },
     "output_type": "display_data"
    },
    {
     "data": {
      "image/png": "[encoded data removed]",
      "text/plain": [
       "<Figure size 432x432 with 1 Axes>"
      ]
     },
     "metadata": {
      "needs_background": "light"
     },
     "output_type": "display_data"
    },
    {
     "data": {
      "image/png": "[encoded data removed]",
      "text/plain": [
       "<Figure size 432x432 with 1 Axes>"
      ]
     },
     "metadata": {
      "needs_background": "light"
     },
     "output_type": "display_data"
    },
    {
     "data": {
      "image/png": "[encoded data removed]",
      "text/plain": [
       "<Figure size 432x432 with 1 Axes>"
      ]
     },
     "metadata": {
      "needs_background": "light"
     },
     "output_type": "display_data"
    }
   ],
   "source": [
    "ng_box = NY_data.boxplot('natural_gas', by='seasons', figsize=(6,6))\n",
    "coal_box = NY_data.boxplot('coal', by='seasons', figsize=(6,6))\n",
    "pl_box = NY_data.boxplot('petroleum_liquids', by='seasons', figsize=(6,6))\n",
    "pc_box = NY_data.boxplot('petroleum_coke', by='seasons', figsize=(6,6))"
   ]
  },
  {
   "cell_type": "code",
   "execution_count": 31,
   "metadata": {},
   "outputs": [
    {
     "data": {
      "text/html": [
       "<div>\n",
       "<style scoped>\n",
       "    .dataframe tbody tr th:only-of-type {\n",
       "        vertical-align: middle;\n",
       "    }\n",
       "\n",
       "    .dataframe tbody tr th {\n",
       "        vertical-align: top;\n",
       "    }\n",
       "\n",
       "    .dataframe thead th {\n",
       "        text-align: right;\n",
       "    }\n",
       "</style>\n",
       "<table border=\"1\" class=\"dataframe\">\n",
       "  <thead>\n",
       "    <tr style=\"text-align: right;\">\n",
       "      <th></th>\n",
       "      <th>df</th>\n",
       "      <th>sum_sq</th>\n",
       "      <th>mean_sq</th>\n",
       "      <th>F</th>\n",
       "      <th>PR(&gt;F)</th>\n",
       "    </tr>\n",
       "  </thead>\n",
       "  <tbody>\n",
       "    <tr>\n",
       "      <th>seasons</th>\n",
       "      <td>3.0</td>\n",
       "      <td>1.232845e+10</td>\n",
       "      <td>4.109482e+09</td>\n",
       "      <td>70.610258</td>\n",
       "      <td>8.020431e-32</td>\n",
       "    </tr>\n",
       "    <tr>\n",
       "      <th>Residual</th>\n",
       "      <td>215.0</td>\n",
       "      <td>1.251289e+10</td>\n",
       "      <td>5.819950e+07</td>\n",
       "      <td>NaN</td>\n",
       "      <td>NaN</td>\n",
       "    </tr>\n",
       "  </tbody>\n",
       "</table>\n",
       "</div>"
      ],
      "text/plain": [
       "             df        sum_sq       mean_sq          F        PR(>F)\n",
       "seasons     3.0  1.232845e+10  4.109482e+09  70.610258  8.020431e-32\n",
       "Residual  215.0  1.251289e+10  5.819950e+07        NaN           NaN"
      ]
     },
     "execution_count": 31,
     "metadata": {},
     "output_type": "execute_result"
    }
   ],
   "source": [
    "mod = ols('natural_gas~seasons',data=NY_data).fit()\n",
    "anova = sm.stats.anova_lm(mod, type=2)\n",
    "anova"
   ]
  },
  {
   "cell_type": "code",
   "execution_count": 32,
   "metadata": {},
   "outputs": [
    {
     "data": {
      "text/html": [
       "<div>\n",
       "<style scoped>\n",
       "    .dataframe tbody tr th:only-of-type {\n",
       "        vertical-align: middle;\n",
       "    }\n",
       "\n",
       "    .dataframe tbody tr th {\n",
       "        vertical-align: top;\n",
       "    }\n",
       "\n",
       "    .dataframe thead th {\n",
       "        text-align: right;\n",
       "    }\n",
       "</style>\n",
       "<table border=\"1\" class=\"dataframe\">\n",
       "  <thead>\n",
       "    <tr style=\"text-align: right;\">\n",
       "      <th></th>\n",
       "      <th>df</th>\n",
       "      <th>sum_sq</th>\n",
       "      <th>mean_sq</th>\n",
       "      <th>F</th>\n",
       "      <th>PR(&gt;F)</th>\n",
       "    </tr>\n",
       "  </thead>\n",
       "  <tbody>\n",
       "    <tr>\n",
       "      <th>seasons</th>\n",
       "      <td>3.0</td>\n",
       "      <td>6.471229e+05</td>\n",
       "      <td>215707.637217</td>\n",
       "      <td>1.978564</td>\n",
       "      <td>0.118171</td>\n",
       "    </tr>\n",
       "    <tr>\n",
       "      <th>Residual</th>\n",
       "      <td>215.0</td>\n",
       "      <td>2.343980e+07</td>\n",
       "      <td>109022.303990</td>\n",
       "      <td>NaN</td>\n",
       "      <td>NaN</td>\n",
       "    </tr>\n",
       "  </tbody>\n",
       "</table>\n",
       "</div>"
      ],
      "text/plain": [
       "             df        sum_sq        mean_sq         F    PR(>F)\n",
       "seasons     3.0  6.471229e+05  215707.637217  1.978564  0.118171\n",
       "Residual  215.0  2.343980e+07  109022.303990       NaN       NaN"
      ]
     },
     "execution_count": 32,
     "metadata": {},
     "output_type": "execute_result"
    }
   ],
   "source": [
    "mod = ols('coal~seasons',data=NY_data).fit()\n",
    "anova = sm.stats.anova_lm(mod, type=2)\n",
    "anova"
   ]
  },
  {
   "cell_type": "code",
   "execution_count": 23,
   "metadata": {},
   "outputs": [
    {
     "data": {
      "text/html": [
       "<div>\n",
       "<style scoped>\n",
       "    .dataframe tbody tr th:only-of-type {\n",
       "        vertical-align: middle;\n",
       "    }\n",
       "\n",
       "    .dataframe tbody tr th {\n",
       "        vertical-align: top;\n",
       "    }\n",
       "\n",
       "    .dataframe thead th {\n",
       "        text-align: right;\n",
       "    }\n",
       "</style>\n",
       "<table border=\"1\" class=\"dataframe\">\n",
       "  <thead>\n",
       "    <tr style=\"text-align: right;\">\n",
       "      <th></th>\n",
       "      <th>df</th>\n",
       "      <th>sum_sq</th>\n",
       "      <th>mean_sq</th>\n",
       "      <th>F</th>\n",
       "      <th>PR(&gt;F)</th>\n",
       "    </tr>\n",
       "  </thead>\n",
       "  <tbody>\n",
       "    <tr>\n",
       "      <th>seasons</th>\n",
       "      <td>3.0</td>\n",
       "      <td>1.854568e+07</td>\n",
       "      <td>6.181894e+06</td>\n",
       "      <td>4.402288</td>\n",
       "      <td>0.00498</td>\n",
       "    </tr>\n",
       "    <tr>\n",
       "      <th>Residual</th>\n",
       "      <td>215.0</td>\n",
       "      <td>3.019129e+08</td>\n",
       "      <td>1.404246e+06</td>\n",
       "      <td>NaN</td>\n",
       "      <td>NaN</td>\n",
       "    </tr>\n",
       "  </tbody>\n",
       "</table>\n",
       "</div>"
      ],
      "text/plain": [
       "             df        sum_sq       mean_sq         F   PR(>F)\n",
       "seasons     3.0  1.854568e+07  6.181894e+06  4.402288  0.00498\n",
       "Residual  215.0  3.019129e+08  1.404246e+06       NaN      NaN"
      ]
     },
     "execution_count": 23,
     "metadata": {},
     "output_type": "execute_result"
    }
   ],
   "source": [
    "mod = ols('petroleum_liquids~seasons',data=NY_data).fit()\n",
    "anova = sm.stats.anova_lm(mod, type=2)\n",
    "anova"
   ]
  },
  {
   "cell_type": "code",
   "execution_count": 24,
   "metadata": {
    "scrolled": true
   },
   "outputs": [
    {
     "data": {
      "text/html": [
       "<div>\n",
       "<style scoped>\n",
       "    .dataframe tbody tr th:only-of-type {\n",
       "        vertical-align: middle;\n",
       "    }\n",
       "\n",
       "    .dataframe tbody tr th {\n",
       "        vertical-align: top;\n",
       "    }\n",
       "\n",
       "    .dataframe thead th {\n",
       "        text-align: right;\n",
       "    }\n",
       "</style>\n",
       "<table border=\"1\" class=\"dataframe\">\n",
       "  <thead>\n",
       "    <tr style=\"text-align: right;\">\n",
       "      <th></th>\n",
       "      <th>df</th>\n",
       "      <th>sum_sq</th>\n",
       "      <th>mean_sq</th>\n",
       "      <th>F</th>\n",
       "      <th>PR(&gt;F)</th>\n",
       "    </tr>\n",
       "  </thead>\n",
       "  <tbody>\n",
       "    <tr>\n",
       "      <th>seasons</th>\n",
       "      <td>3.0</td>\n",
       "      <td>35.881678</td>\n",
       "      <td>11.960559</td>\n",
       "      <td>0.109304</td>\n",
       "      <td>0.954597</td>\n",
       "    </tr>\n",
       "    <tr>\n",
       "      <th>Residual</th>\n",
       "      <td>215.0</td>\n",
       "      <td>23526.316430</td>\n",
       "      <td>109.424728</td>\n",
       "      <td>NaN</td>\n",
       "      <td>NaN</td>\n",
       "    </tr>\n",
       "  </tbody>\n",
       "</table>\n",
       "</div>"
      ],
      "text/plain": [
       "             df        sum_sq     mean_sq         F    PR(>F)\n",
       "seasons     3.0     35.881678   11.960559  0.109304  0.954597\n",
       "Residual  215.0  23526.316430  109.424728       NaN       NaN"
      ]
     },
     "execution_count": 24,
     "metadata": {},
     "output_type": "execute_result"
    }
   ],
   "source": [
    "mod = ols('petroleum_coke~seasons',data=NY_data).fit()\n",
    "anova = sm.stats.anova_lm(mod, type=2)\n",
    "anova"
   ]
  },
  {
   "cell_type": "markdown",
   "metadata": {},
   "source": [
    "**MULTIVARIATE M-ANOVA**"
   ]
  },
  {
   "cell_type": "code",
   "execution_count": 33,
   "metadata": {},
   "outputs": [
    {
     "name": "stdout",
     "output_type": "stream",
     "text": [
      "                  Multivariate linear model\n",
      "==============================================================\n",
      "                                                              \n",
      "--------------------------------------------------------------\n",
      "       Intercept        Value  Num DF  Den DF  F Value  Pr > F\n",
      "--------------------------------------------------------------\n",
      "          Wilks' lambda 0.1117 4.0000 212.0000 421.6265 0.0000\n",
      "         Pillai's trace 0.8883 4.0000 212.0000 421.6265 0.0000\n",
      " Hotelling-Lawley trace 7.9552 4.0000 212.0000 421.6265 0.0000\n",
      "    Roy's greatest root 7.9552 4.0000 212.0000 421.6265 0.0000\n",
      "--------------------------------------------------------------\n",
      "                                                              \n",
      "--------------------------------------------------------------\n",
      "        seasons         Value   Num DF  Den DF  F Value Pr > F\n",
      "--------------------------------------------------------------\n",
      "          Wilks' lambda 0.3702 12.0000 561.1908 21.3213 0.0000\n",
      "         Pillai's trace 0.6699 12.0000 642.0000 15.3801 0.0000\n",
      " Hotelling-Lawley trace 1.5938 12.0000 366.7107 28.0452 0.0000\n",
      "    Roy's greatest root 1.5235  4.0000 214.0000 81.5087 0.0000\n",
      "==============================================================\n",
      "\n"
     ]
    }
   ],
   "source": [
    "formula = 'coal+petroleum_liquids+petroleum_coke+natural_gas~seasons'\n",
    "mod = sm.MANOVA.from_formula(formula, data=NY_data)\n",
    "r = mod.mv_test()\n",
    "print(r)"
   ]
  },
  {
   "cell_type": "code",
   "execution_count": null,
   "metadata": {},
   "outputs": [],
   "source": []
  },
  {
   "cell_type": "code",
   "execution_count": null,
   "metadata": {},
   "outputs": [],
   "source": []
  },
  {
   "cell_type": "code",
   "execution_count": null,
   "metadata": {},
   "outputs": [],
   "source": []
  },
  {
   "cell_type": "markdown",
   "metadata": {},
   "source": [
    "***TUKEY TEST***"
   ]
  },
  {
   "cell_type": "code",
   "execution_count": 26,
   "metadata": {},
   "outputs": [
    {
     "name": "stdout",
     "output_type": "stream",
     "text": [
      "  Multiple Comparison of Means - Tukey HSD, FWER=0.05  \n",
      "=======================================================\n",
      "group1 group2 meandiff p-adj    lower    upper   reject\n",
      "-------------------------------------------------------\n",
      "  fall spring -26.5346    0.9 -190.4899 137.4206  False\n",
      "  fall summer  83.2239 0.5516  -81.4282  247.876  False\n",
      "  fall winter  101.917 0.3883  -64.1967 268.0307  False\n",
      "spring summer 109.7585 0.2925  -51.1055 270.6226  False\n",
      "spring winter 128.4516 0.1738  -33.9081 290.8114  False\n",
      "summer winter  18.6931    0.9 -144.3703 181.7565  False\n",
      "-------------------------------------------------------\n"
     ]
    }
   ],
   "source": [
    "print(pairwise_tukeyhsd(NY_data['coal'], NY_data['seasons']))\n"
   ]
  },
  {
   "cell_type": "code",
   "execution_count": 27,
   "metadata": {},
   "outputs": [
    {
     "name": "stdout",
     "output_type": "stream",
     "text": [
      "      Multiple Comparison of Means - Tukey HSD, FWER=0.05      \n",
      "===============================================================\n",
      "group1 group2   meandiff  p-adj     lower       upper    reject\n",
      "---------------------------------------------------------------\n",
      "  fall spring  -3742.1683 0.0542  -7530.3189     45.9823  False\n",
      "  fall summer  13451.9547  0.001   9647.7027  17256.2068   True\n",
      "  fall winter  -5545.9492 0.0013  -9383.9713  -1707.9271   True\n",
      "spring summer  17194.1231  0.001  13477.3943  20910.8518   True\n",
      "spring winter  -1803.7809 0.5872  -5555.0677    1947.506  False\n",
      "summer winter -18997.9039  0.001 -22765.4497 -15230.3581   True\n",
      "---------------------------------------------------------------\n"
     ]
    }
   ],
   "source": [
    "print(pairwise_tukeyhsd(NY_data['natural_gas'], NY_data['seasons']))"
   ]
  },
  {
   "cell_type": "code",
   "execution_count": 28,
   "metadata": {},
   "outputs": [
    {
     "name": "stdout",
     "output_type": "stream",
     "text": [
      "  Multiple Comparison of Means - Tukey HSD, FWER=0.05   \n",
      "========================================================\n",
      "group1 group2 meandiff p-adj    lower     upper   reject\n",
      "--------------------------------------------------------\n",
      "  fall spring 112.5412    0.9 -475.8812  700.9636  False\n",
      "  fall summer 418.4149 0.2606 -172.5086 1009.3384  False\n",
      "  fall winter 755.1804 0.0066  159.0113 1351.3494   True\n",
      "spring summer 305.8737 0.5162 -271.4546   883.202  False\n",
      "spring winter 642.6391 0.0242   59.9429 1225.3354   True\n",
      "summer winter 336.7655 0.4467 -248.4563  921.9873  False\n",
      "--------------------------------------------------------\n"
     ]
    }
   ],
   "source": [
    "print(pairwise_tukeyhsd(NY_data['petroleum_liquids'], NY_data['seasons']))"
   ]
  },
  {
   "cell_type": "code",
   "execution_count": 29,
   "metadata": {},
   "outputs": [
    {
     "name": "stdout",
     "output_type": "stream",
     "text": [
      "Multiple Comparison of Means - Tukey HSD, FWER=0.05\n",
      "==================================================\n",
      "group1 group2 meandiff p-adj  lower  upper  reject\n",
      "--------------------------------------------------\n",
      "  fall spring   0.2897   0.9 -4.9045  5.484  False\n",
      "  fall summer   0.9258   0.9 -4.2905 6.1422  False\n",
      "  fall winter   0.9441   0.9 -4.3186 6.2068  False\n",
      "spring summer   0.6361   0.9 -4.4603 5.7324  False\n",
      "spring winter   0.6544   0.9 -4.4894 5.7981  False\n",
      "summer winter   0.0183   0.9 -5.1477 5.1843  False\n",
      "--------------------------------------------------\n"
     ]
    }
   ],
   "source": [
    "print(pairwise_tukeyhsd(NY_data['petroleum_coke'], NY_data['seasons']))"
   ]
  },
  {
   "cell_type": "code",
   "execution_count": 30,
   "metadata": {},
   "outputs": [],
   "source": [
    "ny = NY_data"
   ]
  },
  {
   "cell_type": "markdown",
   "metadata": {},
   "source": [
    "   "
   ]
  },
  {
   "cell_type": "markdown",
   "metadata": {},
   "source": [
    "   "
   ]
  },
  {
   "cell_type": "markdown",
   "metadata": {},
   "source": [
    "   "
   ]
  },
  {
   "cell_type": "markdown",
   "metadata": {},
   "source": [
    "**Checking Normal Distribution**"
   ]
  },
  {
   "cell_type": "code",
   "execution_count": 72,
   "metadata": {},
   "outputs": [
    {
     "data": {
      "text/plain": [
       "<matplotlib.legend.Legend at 0x1c1b4d2cc0>"
      ]
     },
     "execution_count": 72,
     "metadata": {},
     "output_type": "execute_result"
    },
    {
     "data": {
      "image/png": "[encoded data removed]",
      "text/plain": [
       "<Figure size 720x432 with 1 Axes>"
      ]
     },
     "metadata": {
      "needs_background": "light"
     },
     "output_type": "display_data"
    }
   ],
   "source": [
    "plt.figure(figsize=(10,6))\n",
    "petcoke = sns.distplot(ny['coal'].loc[(ny.month==12)|(ny.month==1)|(ny.month==2)], label = 'Winter')\n",
    "petcoke = sns.distplot(ny['coal'].loc[(ny.month==6)|(ny.month==7)|(ny.month==8)], label = 'Summer')\n",
    "natgas = sns.distplot(ny['coal'].loc[(ny.month==9)|(ny.month==10)|(ny.month==11)], label = 'Fall')\n",
    "natgas = sns.distplot(ny['coal'].loc[(ny.month==3)|(ny.month==4)|(ny.month==5)], label = 'Spring')\n",
    "plt.legend(facecolor = 'white')"
   ]
  },
  {
   "cell_type": "code",
   "execution_count": null,
   "metadata": {},
   "outputs": [],
   "source": []
  },
  {
   "cell_type": "code",
   "execution_count": 74,
   "metadata": {},
   "outputs": [
    {
     "data": {
      "text/plain": [
       "<matplotlib.legend.Legend at 0x1c1b9d4b00>"
      ]
     },
     "execution_count": 74,
     "metadata": {},
     "output_type": "execute_result"
    },
    {
     "data": {
      "image/png": "[encoded data removed]",
      "text/plain": [
       "<Figure size 432x288 with 1 Axes>"
      ]
     },
     "metadata": {
      "needs_background": "light"
     },
     "output_type": "display_data"
    }
   ],
   "source": [
    "petcoke = sns.distplot(ny['petroleum_liquids'].loc[(ny.month==12)|(ny.month==1)|(ny.month==2)], label = 'Winter')\n",
    "petcoke = sns.distplot(ny['petroleum_liquids'].loc[(ny.month==6)|(ny.month==7)|(ny.month==8)], label = 'Summer')\n",
    "natgas = sns.distplot(ny['petroleum_liquids'].loc[(ny.month==9)|(ny.month==10)|(ny.month==11)], label = 'Fall')\n",
    "natgas = sns.distplot(ny['petroleum_liquids'].loc[(ny.month==3)|(ny.month==4)|(ny.month==5)], label = 'Spring')\n",
    "plt.legend(facecolor = 'white', frameon=True)"
   ]
  },
  {
   "cell_type": "code",
   "execution_count": 75,
   "metadata": {},
   "outputs": [
    {
     "data": {
      "text/plain": [
       "<matplotlib.legend.Legend at 0x1c1bbe8e80>"
      ]
     },
     "execution_count": 75,
     "metadata": {},
     "output_type": "execute_result"
    },
    {
     "data": {
      "image/png": "[encoded data removed]",
      "text/plain": [
       "<Figure size 432x288 with 1 Axes>"
      ]
     },
     "metadata": {
      "needs_background": "light"
     },
     "output_type": "display_data"
    }
   ],
   "source": [
    "petcoke = sns.distplot(ny['petroleum_coke'].loc[(ny.month==12)|(ny.month==1)|(ny.month==2)], label = 'Winter')\n",
    "petcoke = sns.distplot(ny['petroleum_coke'].loc[(ny.month==6)|(ny.month==7)|(ny.month==8)], label = 'Summer')\n",
    "natgas = sns.distplot(ny['petroleum_coke'].loc[(ny.month==9)|(ny.month==10)|(ny.month==11)], label = 'Fall')\n",
    "natgas = sns.distplot(ny['petroleum_coke'].loc[(ny.month==3)|(ny.month==4)|(ny.month==5)], label = 'Spring')\n",
    "plt.legend(facecolor = 'white', frameon=True)"
   ]
  },
  {
   "cell_type": "code",
   "execution_count": 76,
   "metadata": {},
   "outputs": [
    {
     "data": {
      "text/plain": [
       "<matplotlib.legend.Legend at 0x1c1bc791d0>"
      ]
     },
     "execution_count": 76,
     "metadata": {},
     "output_type": "execute_result"
    },
    {
     "data": {
      "image/png": "[encoded data removed]",
      "text/plain": [
       "<Figure size 432x288 with 1 Axes>"
      ]
     },
     "metadata": {
      "needs_background": "light"
     },
     "output_type": "display_data"
    }
   ],
   "source": [
    "natgas = sns.distplot(ny['natural_gas'].loc[(ny.month==12)|(ny.month==1)|(ny.month==2)], label = 'Winter')\n",
    "natgas = sns.distplot(ny['natural_gas'].loc[(ny.month==6)|(ny.month==7)|(ny.month==8)], label = 'Summer')\n",
    "natgas = sns.distplot(ny['natural_gas'].loc[(ny.month==9)|(ny.month==10)|(ny.month==11)], label = 'Fall')\n",
    "natgas = sns.distplot(ny['natural_gas'].loc[(ny.month==3)|(ny.month==4)|(ny.month==5)], label = 'Spring')\n",
    "plt.legend(facecolor = 'white', frameon=True)"
   ]
  },
  {
   "cell_type": "code",
   "execution_count": null,
   "metadata": {},
   "outputs": [],
   "source": []
  }
 ],
 "metadata": {
  "kernelspec": {
   "display_name": "Python 3",
   "language": "python",
   "name": "python3"
  },
  "language_info": {
   "codemirror_mode": {
    "name": "ipython",
    "version": 3
   },
   "file_extension": ".py",
   "mimetype": "text/x-python",
   "name": "python",
   "nbconvert_exporter": "python",
   "pygments_lexer": "ipython3",
   "version": "3.7.3"
  }
 },
 "nbformat": 4,
 "nbformat_minor": 2
}
